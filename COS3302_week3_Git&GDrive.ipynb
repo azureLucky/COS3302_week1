{
  "nbformat": 4,
  "nbformat_minor": 0,
  "metadata": {
    "colab": {
      "name": "COS3302_week3_Git&GDrive.ipynb",
      "provenance": [],
      "collapsed_sections": [],
      "authorship_tag": "ABX9TyMlK6ujs5pVaWhApKb5+1eI",
      "include_colab_link": true
    },
    "kernelspec": {
      "name": "python3",
      "display_name": "Python 3"
    },
    "language_info": {
      "name": "python"
    }
  },
  "cells": [
    {
      "cell_type": "markdown",
      "metadata": {
        "id": "view-in-github",
        "colab_type": "text"
      },
      "source": [
        "<a href=\"https://colab.research.google.com/github/azureLucky/COS3302_week1/blob/main/COS3302_week3_Git%26GDrive.ipynb\" target=\"_parent\"><img src=\"https://colab.research.google.com/assets/colab-badge.svg\" alt=\"Open In Colab\"/></a>"
      ]
    },
    {
      "cell_type": "markdown",
      "source": [
        "# Clone repository from Github"
      ],
      "metadata": {
        "id": "jMu_2uTVl0tC"
      }
    },
    {
      "cell_type": "code",
      "source": [
        "#check git availability\n",
        "!git"
      ],
      "metadata": {
        "id": "BKSs-nbWl-K1"
      },
      "execution_count": null,
      "outputs": []
    },
    {
      "cell_type": "code",
      "source": [
        "#Clone The Repository from Github\n",
        "!git clone https://github.com/keatChada/COS3302_week3_datafiles.git"
      ],
      "metadata": {
        "colab": {
          "base_uri": "https://localhost:8080/"
        },
        "id": "_ipMAo1smGLy",
        "outputId": "58bc59c9-6049-4c2b-c498-968879f393d3"
      },
      "execution_count": null,
      "outputs": [
        {
          "output_type": "stream",
          "name": "stdout",
          "text": [
            "Cloning into 'COS3302_week3_datafiles'...\n",
            "remote: Enumerating objects: 25, done.\u001b[K\n",
            "remote: Counting objects: 100% (25/25), done.\u001b[K\n",
            "remote: Compressing objects: 100% (23/23), done.\u001b[K\n",
            "remote: Total 25 (delta 7), reused 0 (delta 0), pack-reused 0\u001b[K\n",
            "Unpacking objects: 100% (25/25), done.\n"
          ]
        }
      ]
    },
    {
      "cell_type": "code",
      "source": [
        "!pwd"
      ],
      "metadata": {
        "colab": {
          "base_uri": "https://localhost:8080/"
        },
        "id": "P9mFpHH3wKPS",
        "outputId": "2da63845-896b-432c-9bcd-b3bbfc5f2817"
      },
      "execution_count": null,
      "outputs": [
        {
          "output_type": "stream",
          "name": "stdout",
          "text": [
            "/content\n"
          ]
        }
      ]
    },
    {
      "cell_type": "code",
      "source": [
        "#mount myGdrive\n",
        "from google.colab import drive\n",
        "Root = \"/content/GDrive\"\n",
        "drive.mount(Root)"
      ],
      "metadata": {
        "colab": {
          "base_uri": "https://localhost:8080/"
        },
        "id": "o6E_xko0vrGZ",
        "outputId": "f1515aae-1f50-44d7-935c-29f5a47f25c6"
      },
      "execution_count": null,
      "outputs": [
        {
          "output_type": "stream",
          "name": "stdout",
          "text": [
            "Mounted at /content/GDrive\n"
          ]
        }
      ]
    },
    {
      "cell_type": "code",
      "source": [
        "Proj_Path = \"/content/GDrive/MyDrive/COS3302/week3\""
      ],
      "metadata": {
        "id": "JYLVvPTU1WQh"
      },
      "execution_count": null,
      "outputs": []
    },
    {
      "cell_type": "code",
      "source": [
        "!mkdir = \"{Proj_Path}\""
      ],
      "metadata": {
        "colab": {
          "base_uri": "https://localhost:8080/"
        },
        "id": "T_ANaE6x1v97",
        "outputId": "9c985afc-cd70-41cb-8bac-bc7f898d2c88"
      },
      "execution_count": null,
      "outputs": [
        {
          "output_type": "stream",
          "name": "stdout",
          "text": [
            "mkdir: cannot create directory ‘=’: File exists\n"
          ]
        }
      ]
    },
    {
      "cell_type": "code",
      "source": [
        "#move all files in tentent to myGDrive\n",
        "!mv /content/COS3302_week3_datafiles/* \"{Proj_Path}\""
      ],
      "metadata": {
        "id": "LnNHqtYa6QbD"
      },
      "execution_count": null,
      "outputs": []
    }
  ]
}